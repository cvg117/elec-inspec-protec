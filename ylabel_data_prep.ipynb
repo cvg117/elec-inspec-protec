{
 "cells": [
  {
   "cell_type": "code",
   "execution_count": 1,
   "metadata": {},
   "outputs": [],
   "source": [
    "import pandas as pd\n",
    "from fuzzywuzzy import fuzz\n",
    "from fuzzywuzzy import process"
   ]
  },
  {
   "cell_type": "code",
   "execution_count": 2,
   "metadata": {},
   "outputs": [],
   "source": [
    "house_precinct_csv = 'data/raw/HOUSE_precinct_general.csv'\n",
    "dime_csv = 'data/raw/dime.csv'"
   ]
  },
  {
   "cell_type": "code",
   "execution_count": 16,
   "metadata": {},
   "outputs": [],
   "source": [
    "#HOUSE official dtypes from documentation\n",
    "official_dtypes = {'precinct':str,'office':str, 'party_detailed':str, 'party_simplified':str,\n",
    "'mode':str,'votes':int, 'county_name':str, 'county_fips':str, 'jurisdiction_name':str,\n",
    "'jurisdiction_fips':str, 'candidate':str, 'district':str, 'dataverse':str,'year':int,\n",
    "'stage':str, 'state':str, 'special':str, 'writein':str, 'state_po':str, 'state_fips':str,\n",
    "'state_cen':str, 'state_ic':str, 'date':str, 'readme_check':str,'magnitude':int}\n",
    "\n",
    "house =  pd.read_csv(house_precinct_csv, dtype = official_dtypes)"
   ]
  },
  {
   "cell_type": "code",
   "execution_count": 17,
   "metadata": {},
   "outputs": [],
   "source": [
    "#Filter states\n",
    "states = ['MI', 'MN', 'PA', 'WI']\n",
    "house = house[house['state_po'].isin(states)]"
   ]
  },
  {
   "cell_type": "code",
   "execution_count": 18,
   "metadata": {},
   "outputs": [],
   "source": [
    "#Filter office to US House only\n",
    "house = house[house['office'].isin(['US HOUSE'])]"
   ]
  },
  {
   "cell_type": "code",
   "execution_count": 19,
   "metadata": {},
   "outputs": [],
   "source": [
    "#Filter precincts with zero votes\n",
    "house = house[house['votes']!=0]"
   ]
  },
  {
   "cell_type": "code",
   "execution_count": 20,
   "metadata": {},
   "outputs": [],
   "source": [
    "#Filter Statistical Adjustments\n",
    "house = house[house['jurisdiction_name']!=\"{STATISTICAL ADJUSTMENTS}\"]"
   ]
  },
  {
   "cell_type": "code",
   "execution_count": 21,
   "metadata": {},
   "outputs": [],
   "source": [
    "# Michigan also reports the 'absentee' vote (mode == 'ABSENTEE')\n",
    "# Is unclear how to match the absentee ballot votes to a precinct\n",
    "# For this reason, I am dropping them here.\n",
    "# We should check how this might affect our analysis.\n",
    "house = house[house['mode']!='ABSENTEE']"
   ]
  },
  {
   "cell_type": "code",
   "execution_count": 22,
   "metadata": {},
   "outputs": [],
   "source": [
    "#Concatenate state and district to match district column in DIME\n",
    "house['state_po_district'] = house['state_po'] + house['district'].str[1:]"
   ]
  },
  {
   "cell_type": "code",
   "execution_count": 23,
   "metadata": {},
   "outputs": [],
   "source": [
    "michigan = house['state'] == \"MICHIGAN\"\n",
    "house[['precinct_code', 'ward_code']] = house.loc[michigan, 'precinct'].str.split(',', expand = True)\n",
    "house['precinct_code'] = house.loc[michigan, 'precinct_code'].apply('{0:0>3}'.format)\n",
    "house['ward_code'] = house.loc[michigan, 'ward_code'].str.replace('WARD','')\n",
    "house['ward_code'] = house.loc[michigan, 'ward_code'].str.strip()\n",
    "house['ward_code'] = house.loc[michigan, 'ward_code'].fillna('0')\n",
    "house['ward_code'] = house.loc[michigan, 'ward_code'].apply('{0:0>2}'.format)\n",
    "\n"
   ]
  },
  {
   "cell_type": "code",
   "execution_count": 29,
   "metadata": {},
   "outputs": [
    {
     "data": {
      "text/plain": [
       "array(['001', '010', '011', '012', '013', '014', '015', '016', '018',\n",
       "       '019', '002', '020', '021', '003', '302', '304', '305', '306',\n",
       "       '004', '005', '501', '006', '007', '008', '009', '017', '022',\n",
       "       '023', '024', '025', '026', '027', '028', '029', '030', '031',\n",
       "       '032', '033', '034', '035', '036', '037', '038', '039', '040',\n",
       "       '041', '042', '043', '044', '045', '046', '047', '048', '049',\n",
       "       '050', '051', '052', '053', '054', '055', '056', '057', '058',\n",
       "       '059', '060', '061', '062', '063', '064', '065', '066', '067',\n",
       "       '068', '069', '070', '071', '072', '073', '074', '075', '076',\n",
       "       '077', '0-22L', '0-23', '1-W', '3-S', '1-A', '1-B', '10-A', '11-A',\n",
       "       '12-A', '13-A', '14-A', '15-A', '16-A', '16-B', '17-A', '17-B',\n",
       "       '18-A', '19-A', '19-B', '2-A', '20-A', '21-A', '22-A', '22-B',\n",
       "       '23-A', '23-B', '24-A', '24-B', '25-A', '3-A', '3-B', '31-A',\n",
       "       '31-B', '32-A', '33-A', '34-A', '34-B', '34-C', '35-A', '35-B',\n",
       "       '35-C', '36-A', '36-B', '4-A', '7-A', '8-A', '8-B', '9-A', '100',\n",
       "       '101', '102', '108', '110', '111', '112', '113', '114', '115',\n",
       "       '116', '117', '118', '119', '120', '121', '122', '136', '137',\n",
       "       '138', '139', '140', '141', '142', '145', '146', '147', '149',\n",
       "       '150', '151', '152', '153', '154', '157', '158', '159', '160',\n",
       "       '161', '162', '163', '164', '165', '166', '167', '168', '169',\n",
       "       '170', '171', '209', '210', '211', '212', '213', '214', '215',\n",
       "       '216', '217', '218', '219', '220', '261', '262', '263', '264',\n",
       "       '265', '266', '267', '268', '269', '270', '271', '272', '273',\n",
       "       '274', '275', '276', '277', '278', '279', '280', '281', '282',\n",
       "       '283', '284', '285', '286', '287', '288', '289', '290', '291',\n",
       "       '292', '293', '294', '295', '296', '297', '298', '299', '300',\n",
       "       '301', '303', '307', '308', '309', '310', '311', '312', '313',\n",
       "       '314', '315', '316', '317', '321', '323', '324', '325', '326',\n",
       "       '327', '328', '329', '330', '331', '332', '333', '334', '335',\n",
       "       '336', '337', '338', '339', '340', '341', '342', '343', '344',\n",
       "       '345', '346', '347', '348', '349', '350', '351', '352', '353',\n",
       "       '354', '355', '356', '357', '358', '359', '360', '361', '362',\n",
       "       '363', '364', '365', '366', '367', '368', '369', '370', '371',\n",
       "       '372', '373', '374', '375', '376', '377', '378', '379', '393',\n",
       "       '394', '395', '396', '397', '398', '399', '400', '401', '404',\n",
       "       '405', '406', '407', '408', '409', '410', '411', '412', '413',\n",
       "       '414', '415', '416', '417', '418', '419', '420', '421', '422',\n",
       "       '423', '424', '425', '426', '427', '428', '429', '430', '431',\n",
       "       '432', '433', '434', '435', '436', '437', '438', '439', '440',\n",
       "       '441', '442', '443', '444', '445', '446', '447', '448', '449',\n",
       "       '450', '451', '452', '453', '454', '455', '456', '457', '458',\n",
       "       '459', '460', '464', '465', '466', '467', '468', '469', '470',\n",
       "       '471', '472', '477', '478', '479', '480', '481', '482', '483',\n",
       "       '484', '485', '486', '487', '488', '495', '498', '500', '097',\n",
       "       '098', '099', '103', '104', '105', '106', '107', '123', '124',\n",
       "       '125', '126', '127', '128', '129', '130', '131', '132', '133',\n",
       "       '134', '135', '143', '144', '155', '156', '172', '173', '174',\n",
       "       '175', '176', '177', '178', '179', '180', '181', '182', '183',\n",
       "       '184', '185', '186', '187', '188', '189', '190', '191', '192',\n",
       "       '193', '194', '195', '196', '197', '198', '199', '200', '201',\n",
       "       '202', '203', '204', '205', '206', '207', '208', '221', '222',\n",
       "       '223', '224', '225', '226', '227', '228', '229', '230', '231',\n",
       "       '232', '233', '234', '235', '236', '237', '238', '239', '240',\n",
       "       '241', '242', '243', '244', '245', '246', '247', '248', '249',\n",
       "       '250', '251', '252', '253', '254', '255', '256', '257', '258',\n",
       "       '259', '260', '318', '319', '320', '322', '380', '381', '382',\n",
       "       '383', '384', '385', '386', '387', '388', '389', '390', '391',\n",
       "       '392', '402', '403', '461', '462', '463', '473', '474', '475',\n",
       "       '476', '489', '490', '491', '492', '493', '494', '496', '497',\n",
       "       '499', '502', '503', '078', '079', '080', '081', '082', '083',\n",
       "       '084', '085', '086', '087', '088', '089', '090', '091', '092',\n",
       "       '093', '094', '095', '096'], dtype=object)"
      ]
     },
     "execution_count": 29,
     "metadata": {},
     "output_type": "execute_result"
    }
   ],
   "source": [
    "#Note: We still need to check the precincts that have code with letters like '0-22L', '1-A', '1-B'\n",
    "house.loc[michigan, 'precinct_code'].unique()"
   ]
  },
  {
   "cell_type": "code",
   "execution_count": 26,
   "metadata": {},
   "outputs": [],
   "source": [
    "house.loc[michigan, 'precinct_id'] = house.loc[michigan, 'county_fips'] + house.loc[michigan, 'ward_code'] + house.loc[michigan, 'precinct_code']"
   ]
  },
  {
   "cell_type": "code",
   "execution_count": 27,
   "metadata": {},
   "outputs": [
    {
     "data": {
      "text/plain": [
       "356394    2604300001\n",
       "356395    2613100001\n",
       "356396    2600300001\n",
       "356397    2609700001\n",
       "356398    2603300001\n",
       "             ...    \n",
       "414097    2616300095\n",
       "414098    2616300095\n",
       "414129    2616300096\n",
       "414130    2616300096\n",
       "414131    2616300096\n",
       "Name: precinct_id, Length: 15914, dtype: object"
      ]
     },
     "execution_count": 27,
     "metadata": {},
     "output_type": "execute_result"
    }
   ],
   "source": []
  },
  {
   "cell_type": "code",
   "execution_count": null,
   "metadata": {},
   "outputs": [],
   "source": [
    "#Totals by precinct\n",
    "total_by_prec_cand = house.groupby(['state_po', 'state_po_district', 'precinct','candidate'])['votes'].sum().reset_index()\n",
    "total_by_prec = total_by_prec_cand.groupby(['state_po', 'state_po_district', 'precinct'])['votes'].sum().reset_index()\n",
    "total_by_prec = total_by_prec.rename(columns = {'votes': 'total_votes'})"
   ]
  },
  {
   "cell_type": "code",
   "execution_count": null,
   "metadata": {},
   "outputs": [],
   "source": [
    "total_by_prec"
   ]
  },
  {
   "cell_type": "code",
   "execution_count": null,
   "metadata": {},
   "outputs": [],
   "source": [
    "#Totals by county\n",
    "total_by_county_cand = house.groupby(['state_po', 'state_po_district', 'county_fips','candidate'])['votes'].sum().reset_index()\n",
    "total_by_county = total_by_county_cand.groupby(['state_po', 'state_po_district', 'county_fips'])['votes'].sum().reset_index()\n",
    "total_by_county = total_by_county.rename(columns = {'votes': 'total_votes'})"
   ]
  },
  {
   "cell_type": "code",
   "execution_count": null,
   "metadata": {},
   "outputs": [],
   "source": [
    "result = pd.merge(total_by_county_cand, total_by_county, on = ['state_po', 'state_po_district', 'county_fips'])\n",
    "result['pct_vote'] = result['votes']/result['total_votes']\n",
    "result['candidate_house'] = result['candidate'].str.lower()\n",
    "result['candidate_house'] = result['candidate_house'].str.replace('.', '')\n",
    "result['candidate_house'] = result['candidate_house'].str.strip()"
   ]
  },
  {
   "cell_type": "code",
   "execution_count": null,
   "metadata": {},
   "outputs": [],
   "source": [
    "#DIME\n",
    "dime =  pd.read_csv(dime_csv)\n",
    "dime.sort_values(by=['district', 'name'])\n",
    "dime = dime.drop(columns=['cycle', 'seat', 'ran_general', 'winner', 'recipient_type'])\n"
   ]
  },
  {
   "cell_type": "code",
   "execution_count": null,
   "metadata": {},
   "outputs": [],
   "source": [
    "# new data frame with split name\n",
    "split = dime['name'].str.split(\",\", n = 1, expand = True)"
   ]
  },
  {
   "cell_type": "code",
   "execution_count": null,
   "metadata": {},
   "outputs": [],
   "source": [
    "# Change party number codes to letter codes\n",
    "dime.loc[dime['party'] == 100, 'party'] = 'D'\n",
    "dime.loc[dime['party'] == 200, 'party'] = 'R'\n",
    "dime.loc[dime['party'] == 328, 'party'] = 'I'"
   ]
  },
  {
   "cell_type": "code",
   "execution_count": null,
   "metadata": {},
   "outputs": [],
   "source": [
    "#Create new candidate name to match with HOUSE df, and new id column to match with census\n",
    "dime['candidate_dime'] = dime['ffname'] + \" \" + split[0]\n",
    "dime['candidate_dime'] = dime['candidate_dime'].str.replace('.', '')\n",
    "dime['candidate_dime'] = dime['candidate_dime'].str.replace('mr', '')\n",
    "dime['candidate_dime'] = dime['candidate_dime'].str.strip()\n",
    "\n",
    "dime['census_match'] = dime['party'] + dime['name'].astype(str).str[:3] + dime['state']\n",
    "dime"
   ]
  },
  {
   "cell_type": "code",
   "execution_count": null,
   "metadata": {},
   "outputs": [],
   "source": [
    "def checker(wrong_options,correct_options):\n",
    "    names_array=[]\n",
    "    ratio_array=[]    \n",
    "    for wrong_option in wrong_options:\n",
    "        if wrong_option in correct_options:\n",
    "           names_array.append(wrong_option)\n",
    "           ratio_array.append('100')\n",
    "        else:   \n",
    "            x=process.extractOne(wrong_option,correct_options,scorer=fuzz.token_set_ratio)\n",
    "            names_array.append(x[0])\n",
    "            ratio_array.append(x[1])\n",
    "    return names_array,ratio_array"
   ]
  },
  {
   "cell_type": "code",
   "execution_count": null,
   "metadata": {},
   "outputs": [],
   "source": [
    "result_MN = result[result['state_po'].isin(['MN'])]\n",
    "result_MN = result_MN['candidate_house'].drop_duplicates()\n",
    "dime_MN = dime[dime['state'].isin(['MN'])]\n",
    "\n",
    "str2Match = result_MN.tolist()\n",
    "strOptions = dime_MN['candidate_dime'].fillna('######').tolist()\n",
    "\n",
    "name_match,ratio_match=checker(str2Match,strOptions)\n",
    "merged_MN= pd.DataFrame()\n",
    "merged_MN['candidate_house']=pd.Series(str2Match)\n",
    "merged_MN['candidate_dime']=pd.Series(name_match)\n",
    "merged_MN['correct_ratio']=pd.Series(ratio_match).astype(float)\n",
    "\n",
    "merged_MN\n"
   ]
  },
  {
   "cell_type": "code",
   "execution_count": null,
   "metadata": {},
   "outputs": [],
   "source": [
    "result_WI = result[result['state_po'].isin(['WI'])]\n",
    "result_WI = result_WI['candidate_house'].drop_duplicates()\n",
    "dime_WI = dime[dime['state'].isin(['WI'])]\n",
    "\n",
    "str2Match = result_WI.tolist()\n",
    "strOptions = dime_WI['candidate_dime'].fillna('######').tolist()\n",
    "\n",
    "name_match,ratio_match=checker(str2Match,strOptions)\n",
    "merged_WI = pd.DataFrame()\n",
    "merged_WI['candidate_house']=pd.Series(str2Match)\n",
    "merged_WI['candidate_dime']=pd.Series(name_match)\n",
    "merged_WI['correct_ratio']=pd.Series(ratio_match).astype(float)\n",
    "\n",
    "merged_WI"
   ]
  },
  {
   "cell_type": "code",
   "execution_count": null,
   "metadata": {},
   "outputs": [],
   "source": [
    "result_PA = result[result['state_po'].isin(['PA'])]\n",
    "result_PA = result_PA['candidate_house'].drop_duplicates()\n",
    "dime_PA = dime[dime['state'].isin(['PA'])]\n",
    "\n",
    "str2Match = result_PA.tolist()\n",
    "strOptions = dime_PA['candidate_dime'].fillna('######').tolist()\n",
    "\n",
    "name_match,ratio_match=checker(str2Match,strOptions)\n",
    "merged_PA = pd.DataFrame()\n",
    "merged_PA['candidate_house'] = pd.Series(str2Match)\n",
    "merged_PA['candidate_dime'] = pd.Series(name_match)\n",
    "merged_PA['correct_ratio'] = pd.Series(ratio_match).astype(float)\n",
    "\n",
    "merged_PA"
   ]
  },
  {
   "cell_type": "code",
   "execution_count": null,
   "metadata": {},
   "outputs": [],
   "source": [
    "result_MI = result[result['state_po'].isin(['MI'])]\n",
    "result_MI = result_MI['candidate_house'].drop_duplicates()\n",
    "dime_MI = dime[dime['state'].isin(['MI'])]\n",
    "\n",
    "str2Match = result_MI.tolist()\n",
    "strOptions = dime_MI['candidate_dime'].fillna('######').tolist()\n",
    "\n",
    "name_match,ratio_match=checker(str2Match,strOptions)\n",
    "merged_MI = pd.DataFrame()\n",
    "merged_MI['candidate_house'] = pd.Series(str2Match)\n",
    "merged_MI['candidate_dime'] = pd.Series(name_match)\n",
    "merged_MI['correct_ratio'] = pd.Series(ratio_match).astype(float)\n",
    "\n",
    "merged_MI"
   ]
  },
  {
   "cell_type": "code",
   "execution_count": null,
   "metadata": {},
   "outputs": [],
   "source": [
    "#concatenate results of fuzzy matching by state\n",
    "merged = pd.concat([merged_MI, merged_MN, merged_PA, merged_WI], sort=False)"
   ]
  },
  {
   "cell_type": "code",
   "execution_count": null,
   "metadata": {},
   "outputs": [],
   "source": [
    "#merge with results of fuzzy matching\n",
    "result = result.merge(merged, how = 'left', on = 'candidate_house')\n",
    "result"
   ]
  },
  {
   "cell_type": "code",
   "execution_count": null,
   "metadata": {},
   "outputs": [],
   "source": [
    "# merge with dime data to add ideaology\n",
    "result = result.merge(dime, how = 'left', on = 'candidate_dime')\n",
    "result"
   ]
  },
  {
   "cell_type": "code",
   "execution_count": null,
   "metadata": {},
   "outputs": [],
   "source": [
    "# Calculate the min correct ratio by county\n",
    "result = result.join(result.groupby(['state_po_district', 'county_fips'])['correct_ratio'].agg(['min']), on = ['state_po_district', 'county_fips'])\n",
    "\n",
    "# Keep only precincts where min correct ratio is at least 75\n",
    "result = result[result['min']>=75]\n"
   ]
  },
  {
   "cell_type": "code",
   "execution_count": null,
   "metadata": {},
   "outputs": [],
   "source": [
    "# Compute ideology score weighted by % votes\n",
    "result['wgt_cfscore'] = result['recipient_cfscore'] * result['pct_vote']\n",
    "result"
   ]
  },
  {
   "cell_type": "code",
   "execution_count": null,
   "metadata": {},
   "outputs": [],
   "source": [
    "result_agg = result.groupby(['state_po_district', 'county_fips'])['wgt_cfscore'].sum().reset_index()\n",
    "result_agg"
   ]
  },
  {
   "cell_type": "code",
   "execution_count": null,
   "metadata": {},
   "outputs": [],
   "source": [
    "#Lean Liberal (0 through -0.5)\n",
    "#Strong Liberal (-0.5 through -1)\n",
    "#Very Liberal (-1 and lower)\n",
    "#Lean Conservative (0 through 0.5)\n",
    "#Strong Conservative (0.5 through 1)\n",
    "#Very Conservative (1 and higher)\n",
    "result_agg['cf_category'] = ''\n",
    "result_agg.loc[(result_agg['wgt_cfscore'] < -1), 'cf_category'] = '-3'\n",
    "result_agg.loc[(result_agg['wgt_cfscore'] >= -1) & (result_agg['wgt_cfscore'] <= -0.5), 'cf_category'] = '-2'\n",
    "result_agg.loc[(result_agg['wgt_cfscore'] >= -0.5) & (result_agg['wgt_cfscore'] < 0), 'cf_category'] = '-1'\n",
    "result_agg.loc[(result_agg['wgt_cfscore'] >= 0) & (result_agg['wgt_cfscore'] < 0.5), 'cf_category'] = '1'\n",
    "result_agg.loc[(result_agg['wgt_cfscore'] >= 0.5) & (result_agg['wgt_cfscore'] < 1), 'cf_category'] = '2'\n",
    "result_agg.loc[(result_agg['wgt_cfscore'] >= 1), 'cf_category'] = '3'\n",
    "\n",
    "result_agg['cf_label'] = ''\n",
    "result_agg.loc[(result_agg['cf_category'] == '-3'), 'cf_label'] = 'Very Liberal'\n",
    "result_agg.loc[(result_agg['cf_category'] == '-2'), 'cf_label'] = 'Strong Liberal'\n",
    "result_agg.loc[(result_agg['cf_category'] == '-1'), 'cf_label'] = 'Lean Liberal'\n",
    "result_agg.loc[(result_agg['cf_category'] == '1'), 'cf_label'] = 'Lean Conservative'\n",
    "result_agg.loc[(result_agg['cf_category'] == '2'), 'cf_label'] = 'Strong Conservative'\n",
    "result_agg.loc[(result_agg['cf_category'] == '3'), 'cf_label'] = 'Very Conservative'\n",
    "\n",
    "result_agg"
   ]
  },
  {
   "cell_type": "code",
   "execution_count": null,
   "metadata": {},
   "outputs": [],
   "source": [
    "#export to csv\n",
    "result_agg.to_csv('data/ideology_county.csv', index = False)"
   ]
  },
  {
   "cell_type": "code",
   "execution_count": null,
   "metadata": {},
   "outputs": [],
   "source": [
    "census_mi_vtd_csv = 'data/MI_VTD_demographics.csv'\n",
    "mi_vtd = pd.read_csv(census_mi_vtd_csv, dtype = official_dtypes)\n",
    "mi_vtd"
   ]
  },
  {
   "cell_type": "code",
   "execution_count": null,
   "metadata": {},
   "outputs": [],
   "source": [
    "for x in ['prop_white', 'prop_Black', 'prop_Hispanic', 'prop_AIA', 'prop_Asian']:\n",
    "    mi_vtd[x] = mi_vtd['total_pop'] * mi_vtd[x]\n",
    "mi_vtd"
   ]
  },
  {
   "cell_type": "code",
   "execution_count": null,
   "metadata": {},
   "outputs": [],
   "source": [
    "mi_vtd['county_fips'] = mi_vtd['VTD_ID'].str[:5]\n",
    "mi_vtd"
   ]
  },
  {
   "cell_type": "code",
   "execution_count": null,
   "metadata": {},
   "outputs": [],
   "source": [
    "mi_county = mi_vtd.groupby(['county_fips']).agg(\n",
    "     total_pop = ('total_pop','sum'),\n",
    "     total_White = ('prop_white','sum'),\n",
    "     total_Black = ('prop_Black','sum'),\n",
    "     total_Hispanic = ('prop_Hispanic','sum'),\n",
    "     total_AIA = ('prop_AIA','sum'),\n",
    "     total_Asian = ('prop_Asian','sum'),\n",
    "     ).reset_index()\n",
    "mi_county"
   ]
  },
  {
   "cell_type": "code",
   "execution_count": null,
   "metadata": {},
   "outputs": [],
   "source": [
    "mi_county['prop_White'] = mi_county['total_White'] / mi_county['total_pop']\n",
    "mi_county['prop_Black'] = mi_county['total_Black'] / mi_county['total_pop']\n",
    "mi_county['prop_Hispanic'] = mi_county['total_Hispanic'] / mi_county['total_pop']\n",
    "mi_county['prop_AIA'] = mi_county['total_AIA'] / mi_county['total_pop']\n",
    "mi_county['prop_Asian'] = mi_county['total_Asian'] / mi_county['total_pop']\n",
    "mi_county"
   ]
  },
  {
   "cell_type": "code",
   "execution_count": null,
   "metadata": {},
   "outputs": [],
   "source": [
    "mi_result = mi_county.merge(result_agg, how = 'left', on = 'county_fips')\n",
    "mi_result"
   ]
  },
  {
   "cell_type": "code",
   "execution_count": null,
   "metadata": {},
   "outputs": [],
   "source": [
    "mi_result['cf_label'].value_counts()"
   ]
  },
  {
   "cell_type": "code",
   "execution_count": null,
   "metadata": {},
   "outputs": [],
   "source": [
    "mi_result = mi_result[['county_fips','total_pop','prop_White','prop_Black','prop_Hispanic','prop_AIA','prop_Asian', 'wgt_cfscore','cf_category','cf_label']]\n",
    "mi_result"
   ]
  },
  {
   "cell_type": "code",
   "execution_count": null,
   "metadata": {},
   "outputs": [],
   "source": [
    "mi_result.dropna(inplace=True)\n",
    "mi_result"
   ]
  },
  {
   "cell_type": "code",
   "execution_count": null,
   "metadata": {},
   "outputs": [],
   "source": [
    "#export to csv\n",
    "mi_result.to_csv('data/mi_matched_county.csv', index = False)"
   ]
  }
 ],
 "metadata": {
  "interpreter": {
   "hash": "3cd94c418ae47e3a9858313dff0b28b913dabccfe96f0443325b77beb60bbd9d"
  },
  "kernelspec": {
   "display_name": "elec-inspec-protec",
   "language": "python",
   "name": "elec-inspec-protec"
  },
  "language_info": {
   "codemirror_mode": {
    "name": "ipython",
    "version": 3
   },
   "file_extension": ".py",
   "mimetype": "text/x-python",
   "name": "python",
   "nbconvert_exporter": "python",
   "pygments_lexer": "ipython3",
   "version": "3.9.12"
  },
  "orig_nbformat": 4
 },
 "nbformat": 4,
 "nbformat_minor": 2
}
