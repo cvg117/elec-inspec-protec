{
 "cells": [
  {
   "cell_type": "code",
   "execution_count": 1,
   "metadata": {},
   "outputs": [
    {
     "name": "stderr",
     "output_type": "stream",
     "text": [
      "WARNING: You are using pip version 22.0.4; however, version 22.1.2 is available.\n",
      "You should consider upgrading via the 'C:\\Users\\cvg11\\AppData\\Local\\Microsoft\\WindowsApps\\PythonSoftwareFoundation.Python.3.9_qbz5n2kfra8p0\\python.exe -m pip install --upgrade pip' command.\n"
     ]
    },
    {
     "name": "stdout",
     "output_type": "stream",
     "text": [
      "Requirement already satisfied: lightgbm in c:\\users\\cvg11\\appdata\\local\\packages\\pythonsoftwarefoundation.python.3.9_qbz5n2kfra8p0\\localcache\\local-packages\\python39\\site-packages (3.3.2)\n",
      "Requirement already satisfied: numpy in c:\\users\\cvg11\\appdata\\local\\packages\\pythonsoftwarefoundation.python.3.9_qbz5n2kfra8p0\\localcache\\local-packages\\python39\\site-packages (from lightgbm) (1.21.5)\n",
      "Requirement already satisfied: scikit-learn!=0.22.0 in c:\\users\\cvg11\\appdata\\local\\packages\\pythonsoftwarefoundation.python.3.9_qbz5n2kfra8p0\\localcache\\local-packages\\python39\\site-packages (from lightgbm) (1.0.2)\n",
      "Requirement already satisfied: wheel in c:\\users\\cvg11\\appdata\\local\\packages\\pythonsoftwarefoundation.python.3.9_qbz5n2kfra8p0\\localcache\\local-packages\\python39\\site-packages (from lightgbm) (0.37.1)\n",
      "Requirement already satisfied: scipy in c:\\users\\cvg11\\appdata\\local\\packages\\pythonsoftwarefoundation.python.3.9_qbz5n2kfra8p0\\localcache\\local-packages\\python39\\site-packages (from lightgbm) (1.8.0)\n",
      "Requirement already satisfied: threadpoolctl>=2.0.0 in c:\\users\\cvg11\\appdata\\local\\packages\\pythonsoftwarefoundation.python.3.9_qbz5n2kfra8p0\\localcache\\local-packages\\python39\\site-packages (from scikit-learn!=0.22.0->lightgbm) (3.1.0)\n",
      "Requirement already satisfied: joblib>=0.11 in c:\\users\\cvg11\\appdata\\local\\packages\\pythonsoftwarefoundation.python.3.9_qbz5n2kfra8p0\\localcache\\local-packages\\python39\\site-packages (from scikit-learn!=0.22.0->lightgbm) (1.1.0)\n"
     ]
    }
   ],
   "source": [
    "!pip3 install lightgbm\n",
    "import numpy as np\n",
    "import pandas as pd\n",
    "from sklearn.model_selection import train_test_split\n",
    "from lightgbm import LGBMClassifier\n",
    "from sklearn.metrics import accuracy_score"
   ]
  },
  {
   "cell_type": "code",
   "execution_count": 29,
   "metadata": {},
   "outputs": [
    {
     "name": "stdout",
     "output_type": "stream",
     "text": [
      "Index(['NAME20', 'VTD_ID', 'total_pop', 'pop_density', 'prop_white',\n",
      "       'prop_Black', 'prop_Hispanic', 'prop_AIA', 'prop_Asian', 'prop_married',\n",
      "       'prop_nonfamily', 'prop_family_nonmarried', 'prop_hs_diploma',\n",
      "       'prop_some_college', 'prop_bachelors', 'prop_higher', 'prop_under_hs',\n",
      "       'prop_under_30k', 'prop_30_to_50k', 'prop_50_to_100k',\n",
      "       'prop_more_than_100k', 'D_pct_vote', 'I_pct_vote', 'R_pct_vote',\n",
      "       'D_recipient_cfscore', 'I_recipient_cfscore', 'R_recipient_cfscore'],\n",
      "      dtype='object')\n",
      "0           Liberal\n",
      "1           Liberal\n",
      "2           Liberal\n",
      "3           Liberal\n",
      "4           Liberal\n",
      "           ...     \n",
      "245    Conservative\n",
      "246    Conservative\n",
      "247    Conservative\n",
      "248    Conservative\n",
      "249    Conservative\n",
      "Length: 250, dtype: object\n"
     ]
    }
   ],
   "source": [
    "df = pd.read_csv(\"../data/mi_matched_precinct.csv\")\n",
    "x = df.iloc[:,:-6]\n",
    "print(x.columns)\n",
    "y1 = df[\"D_cf_category\"]\n",
    "y2 = df[\"I_cf_category\"]\n",
    "y3 = df[\"R_cf_category\"]\n",
    "y = np.around((y1 + y2 + y3)/3)\n",
    "cats = {-3:\"Very Liberal\",-2:\"Strong Liberal\",-1:\"Liberal\",0: \"Moderate\",1: \"Conservative\",2: \"Strong Conservative\",3: \" Very Conservative\"}\n",
    "for key, value in cats.items():\n",
    "    y[y == key] = value\n",
    "print(y)\n"
   ]
  },
  {
   "cell_type": "code",
   "execution_count": 30,
   "metadata": {},
   "outputs": [],
   "source": [
    "x.to_numpy()\n",
    "#print(x.head())\n",
    "y.to_numpy()\n",
    "#print(y.head())\n",
    "\n",
    "X_train, X_test, y_train, y_test = train_test_split(x, y, test_size=0.33, random_state=42)"
   ]
  },
  {
   "cell_type": "code",
   "execution_count": 31,
   "metadata": {},
   "outputs": [
    {
     "data": {
      "text/plain": [
       "LGBMClassifier()"
      ]
     },
     "execution_count": 31,
     "metadata": {},
     "output_type": "execute_result"
    }
   ],
   "source": [
    "classy = LGBMClassifier()\n",
    "classy.fit(X_train, y_train)"
   ]
  },
  {
   "cell_type": "code",
   "execution_count": 32,
   "metadata": {},
   "outputs": [],
   "source": [
    "y_pred = classy.predict(X_test)"
   ]
  },
  {
   "cell_type": "code",
   "execution_count": 33,
   "metadata": {},
   "outputs": [
    {
     "name": "stdout",
     "output_type": "stream",
     "text": [
      "LightGBM Model accuracy score: 1.0000\n"
     ]
    }
   ],
   "source": [
    "acc = accuracy_score(y_pred, y_test)\n",
    "print('LightGBM Model accuracy score: {0:0.4f}'.format(accuracy_score(y_test, y_pred)))"
   ]
  }
 ],
 "metadata": {
  "kernelspec": {
   "display_name": "Python 3.9.13 64-bit (windows store)",
   "language": "python",
   "name": "python3"
  },
  "language_info": {
   "codemirror_mode": {
    "name": "ipython",
    "version": 3
   },
   "file_extension": ".py",
   "mimetype": "text/x-python",
   "name": "python",
   "nbconvert_exporter": "python",
   "pygments_lexer": "ipython3",
   "version": "3.9.13"
  },
  "orig_nbformat": 4,
  "vscode": {
   "interpreter": {
    "hash": "80a7733419157b7bbc69da993750370e7e973cd1e1e420d8d8947b3681a958ae"
   }
  }
 },
 "nbformat": 4,
 "nbformat_minor": 2
}
