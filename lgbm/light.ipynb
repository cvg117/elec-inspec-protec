{
 "cells": [
  {
   "cell_type": "code",
   "execution_count": 35,
   "metadata": {},
   "outputs": [],
   "source": [
    "import numpy as np\n",
    "import pandas as pd\n",
    "import lightgbm as lgb\n",
    "from sklearn.model_selection import train_test_split\n"
   ]
  },
  {
   "cell_type": "code",
   "execution_count": 36,
   "metadata": {},
   "outputs": [
    {
     "data": {
      "text/plain": [
       "Index(['VTD_ID', 'total_pop', 'pop_density', 'prop_white', 'prop_Black',\n",
       "       'prop_Hispanic', 'prop_AIA', 'prop_Asian', 'prop_married',\n",
       "       'prop_nonfamily', 'prop_family_nonmarried', 'prop_hs_diploma',\n",
       "       'prop_some_college', 'prop_bachelors', 'prop_higher', 'prop_under_hs',\n",
       "       'prop_under_30k', 'prop_30_to_50k', 'prop_50_to_100k',\n",
       "       'prop_more_than_100k', 'D_pct_vote', 'Weighted_ideology'],\n",
       "      dtype='object')"
      ]
     },
     "execution_count": 36,
     "metadata": {},
     "output_type": "execute_result"
    }
   ],
   "source": [
    "df = pd.read_csv(\"../data/mi_matched_precinct_use_this.csv\")\n",
    "df.columns\n"
   ]
  },
  {
   "cell_type": "code",
   "execution_count": 37,
   "metadata": {},
   "outputs": [
    {
     "data": {
      "text/plain": [
       "Index(['VTD_ID', 'total_pop', 'pop_density', 'prop_Black', 'prop_Hispanic',\n",
       "       'prop_AIA', 'prop_Asian', 'prop_married', 'prop_nonfamily',\n",
       "       'prop_family_nonmarried', 'prop_hs_diploma', 'prop_some_college',\n",
       "       'prop_bachelors', 'prop_under_hs', 'prop_under_30k', 'prop_30_to_50k',\n",
       "       'prop_50_to_100k', 'prop_more_than_100k'],\n",
       "      dtype='object')"
      ]
     },
     "execution_count": 37,
     "metadata": {},
     "output_type": "execute_result"
    }
   ],
   "source": [
    "x = df.drop(['prop_white', 'prop_higher', 'D_pct_vote', 'Weighted_ideology'], axis=1)\n",
    "y = df['D_pct_vote']\n",
    "x.columns\n"
   ]
  },
  {
   "cell_type": "code",
   "execution_count": 38,
   "metadata": {},
   "outputs": [
    {
     "data": {
      "text/html": [
       "<div>\n",
       "<style scoped>\n",
       "    .dataframe tbody tr th:only-of-type {\n",
       "        vertical-align: middle;\n",
       "    }\n",
       "\n",
       "    .dataframe tbody tr th {\n",
       "        vertical-align: top;\n",
       "    }\n",
       "\n",
       "    .dataframe thead th {\n",
       "        text-align: right;\n",
       "    }\n",
       "</style>\n",
       "<table border=\"1\" class=\"dataframe\">\n",
       "  <thead>\n",
       "    <tr style=\"text-align: right;\">\n",
       "      <th></th>\n",
       "      <th>total_pop</th>\n",
       "      <th>pop_density</th>\n",
       "      <th>prop_Black</th>\n",
       "      <th>prop_Hispanic</th>\n",
       "      <th>prop_AIA</th>\n",
       "      <th>prop_Asian</th>\n",
       "      <th>prop_married</th>\n",
       "      <th>prop_nonfamily</th>\n",
       "      <th>prop_family_nonmarried</th>\n",
       "      <th>prop_hs_diploma</th>\n",
       "      <th>prop_some_college</th>\n",
       "      <th>prop_bachelors</th>\n",
       "      <th>prop_under_hs</th>\n",
       "      <th>prop_under_30k</th>\n",
       "      <th>prop_30_to_50k</th>\n",
       "      <th>prop_50_to_100k</th>\n",
       "      <th>prop_more_than_100k</th>\n",
       "    </tr>\n",
       "  </thead>\n",
       "  <tbody>\n",
       "    <tr>\n",
       "      <th>823</th>\n",
       "      <td>1085.995294</td>\n",
       "      <td>0.002588</td>\n",
       "      <td>7.508177e-03</td>\n",
       "      <td>0.073884</td>\n",
       "      <td>0.003601</td>\n",
       "      <td>2.160984e-01</td>\n",
       "      <td>0.739701</td>\n",
       "      <td>0.156780</td>\n",
       "      <td>0.103520</td>\n",
       "      <td>0.000000e+00</td>\n",
       "      <td>0.082186</td>\n",
       "      <td>0.280514</td>\n",
       "      <td>0.250104</td>\n",
       "      <td>0.060924</td>\n",
       "      <td>0.099899</td>\n",
       "      <td>0.249053</td>\n",
       "      <td>0.590124</td>\n",
       "    </tr>\n",
       "    <tr>\n",
       "      <th>479</th>\n",
       "      <td>805.589803</td>\n",
       "      <td>0.000013</td>\n",
       "      <td>2.409619e-02</td>\n",
       "      <td>0.032062</td>\n",
       "      <td>0.002144</td>\n",
       "      <td>3.142390e-03</td>\n",
       "      <td>0.576385</td>\n",
       "      <td>0.369381</td>\n",
       "      <td>0.054234</td>\n",
       "      <td>0.000000e+00</td>\n",
       "      <td>0.192892</td>\n",
       "      <td>0.326813</td>\n",
       "      <td>0.231994</td>\n",
       "      <td>0.163563</td>\n",
       "      <td>0.117959</td>\n",
       "      <td>0.357622</td>\n",
       "      <td>0.360856</td>\n",
       "    </tr>\n",
       "    <tr>\n",
       "      <th>527</th>\n",
       "      <td>3772.848616</td>\n",
       "      <td>0.000300</td>\n",
       "      <td>9.158439e-03</td>\n",
       "      <td>0.050362</td>\n",
       "      <td>0.014134</td>\n",
       "      <td>6.783282e-03</td>\n",
       "      <td>0.623474</td>\n",
       "      <td>0.219752</td>\n",
       "      <td>0.156774</td>\n",
       "      <td>0.000000e+00</td>\n",
       "      <td>0.131523</td>\n",
       "      <td>0.257920</td>\n",
       "      <td>0.484533</td>\n",
       "      <td>0.159133</td>\n",
       "      <td>0.176735</td>\n",
       "      <td>0.310820</td>\n",
       "      <td>0.353312</td>\n",
       "    </tr>\n",
       "    <tr>\n",
       "      <th>633</th>\n",
       "      <td>2157.990157</td>\n",
       "      <td>0.002393</td>\n",
       "      <td>3.230000e-08</td>\n",
       "      <td>0.056534</td>\n",
       "      <td>0.012512</td>\n",
       "      <td>5.080000e-08</td>\n",
       "      <td>0.508307</td>\n",
       "      <td>0.277962</td>\n",
       "      <td>0.213731</td>\n",
       "      <td>0.000000e+00</td>\n",
       "      <td>0.053103</td>\n",
       "      <td>0.229047</td>\n",
       "      <td>0.665387</td>\n",
       "      <td>0.130675</td>\n",
       "      <td>0.339977</td>\n",
       "      <td>0.253599</td>\n",
       "      <td>0.275748</td>\n",
       "    </tr>\n",
       "    <tr>\n",
       "      <th>388</th>\n",
       "      <td>745.255220</td>\n",
       "      <td>0.000010</td>\n",
       "      <td>1.179130e-04</td>\n",
       "      <td>0.012718</td>\n",
       "      <td>0.008757</td>\n",
       "      <td>5.602055e-03</td>\n",
       "      <td>0.487456</td>\n",
       "      <td>0.462643</td>\n",
       "      <td>0.049901</td>\n",
       "      <td>0.000000e+00</td>\n",
       "      <td>0.115276</td>\n",
       "      <td>0.109935</td>\n",
       "      <td>0.692549</td>\n",
       "      <td>0.378326</td>\n",
       "      <td>0.238168</td>\n",
       "      <td>0.294827</td>\n",
       "      <td>0.088680</td>\n",
       "    </tr>\n",
       "    <tr>\n",
       "      <th>...</th>\n",
       "      <td>...</td>\n",
       "      <td>...</td>\n",
       "      <td>...</td>\n",
       "      <td>...</td>\n",
       "      <td>...</td>\n",
       "      <td>...</td>\n",
       "      <td>...</td>\n",
       "      <td>...</td>\n",
       "      <td>...</td>\n",
       "      <td>...</td>\n",
       "      <td>...</td>\n",
       "      <td>...</td>\n",
       "      <td>...</td>\n",
       "      <td>...</td>\n",
       "      <td>...</td>\n",
       "      <td>...</td>\n",
       "      <td>...</td>\n",
       "    </tr>\n",
       "    <tr>\n",
       "      <th>87</th>\n",
       "      <td>1605.538229</td>\n",
       "      <td>0.000039</td>\n",
       "      <td>0.000000e+00</td>\n",
       "      <td>0.025110</td>\n",
       "      <td>0.003067</td>\n",
       "      <td>7.743880e-03</td>\n",
       "      <td>0.543440</td>\n",
       "      <td>0.359332</td>\n",
       "      <td>0.097229</td>\n",
       "      <td>0.000000e+00</td>\n",
       "      <td>0.170270</td>\n",
       "      <td>0.150283</td>\n",
       "      <td>0.622837</td>\n",
       "      <td>0.287941</td>\n",
       "      <td>0.160311</td>\n",
       "      <td>0.356839</td>\n",
       "      <td>0.194909</td>\n",
       "    </tr>\n",
       "    <tr>\n",
       "      <th>330</th>\n",
       "      <td>194.367033</td>\n",
       "      <td>0.000321</td>\n",
       "      <td>4.534354e-03</td>\n",
       "      <td>0.017936</td>\n",
       "      <td>0.020889</td>\n",
       "      <td>0.000000e+00</td>\n",
       "      <td>0.508504</td>\n",
       "      <td>0.327340</td>\n",
       "      <td>0.164156</td>\n",
       "      <td>0.000000e+00</td>\n",
       "      <td>0.146390</td>\n",
       "      <td>0.063955</td>\n",
       "      <td>0.753549</td>\n",
       "      <td>0.320973</td>\n",
       "      <td>0.238804</td>\n",
       "      <td>0.328780</td>\n",
       "      <td>0.111442</td>\n",
       "    </tr>\n",
       "    <tr>\n",
       "      <th>466</th>\n",
       "      <td>1424.424412</td>\n",
       "      <td>0.000040</td>\n",
       "      <td>1.339143e-02</td>\n",
       "      <td>0.006640</td>\n",
       "      <td>0.011051</td>\n",
       "      <td>5.573141e-03</td>\n",
       "      <td>0.535229</td>\n",
       "      <td>0.345808</td>\n",
       "      <td>0.118963</td>\n",
       "      <td>0.000000e+00</td>\n",
       "      <td>0.176706</td>\n",
       "      <td>0.060665</td>\n",
       "      <td>0.729848</td>\n",
       "      <td>0.307023</td>\n",
       "      <td>0.303399</td>\n",
       "      <td>0.301118</td>\n",
       "      <td>0.088460</td>\n",
       "    </tr>\n",
       "    <tr>\n",
       "      <th>121</th>\n",
       "      <td>1607.517536</td>\n",
       "      <td>0.000655</td>\n",
       "      <td>1.051735e-02</td>\n",
       "      <td>0.022820</td>\n",
       "      <td>0.024166</td>\n",
       "      <td>6.589097e-03</td>\n",
       "      <td>0.470266</td>\n",
       "      <td>0.384295</td>\n",
       "      <td>0.145440</td>\n",
       "      <td>0.000000e+00</td>\n",
       "      <td>0.172316</td>\n",
       "      <td>0.126420</td>\n",
       "      <td>0.664557</td>\n",
       "      <td>0.259067</td>\n",
       "      <td>0.277313</td>\n",
       "      <td>0.344426</td>\n",
       "      <td>0.119195</td>\n",
       "    </tr>\n",
       "    <tr>\n",
       "      <th>860</th>\n",
       "      <td>3529.002362</td>\n",
       "      <td>0.001094</td>\n",
       "      <td>3.683761e-03</td>\n",
       "      <td>0.026920</td>\n",
       "      <td>0.020402</td>\n",
       "      <td>0.000000e+00</td>\n",
       "      <td>0.503747</td>\n",
       "      <td>0.216486</td>\n",
       "      <td>0.279767</td>\n",
       "      <td>8.700000e-09</td>\n",
       "      <td>0.146648</td>\n",
       "      <td>0.184823</td>\n",
       "      <td>0.618715</td>\n",
       "      <td>0.168193</td>\n",
       "      <td>0.283930</td>\n",
       "      <td>0.321399</td>\n",
       "      <td>0.226478</td>\n",
       "    </tr>\n",
       "  </tbody>\n",
       "</table>\n",
       "<p>698 rows × 17 columns</p>\n",
       "</div>"
      ],
      "text/plain": [
       "       total_pop  pop_density    prop_Black  prop_Hispanic  prop_AIA  \\\n",
       "823  1085.995294     0.002588  7.508177e-03       0.073884  0.003601   \n",
       "479   805.589803     0.000013  2.409619e-02       0.032062  0.002144   \n",
       "527  3772.848616     0.000300  9.158439e-03       0.050362  0.014134   \n",
       "633  2157.990157     0.002393  3.230000e-08       0.056534  0.012512   \n",
       "388   745.255220     0.000010  1.179130e-04       0.012718  0.008757   \n",
       "..           ...          ...           ...            ...       ...   \n",
       "87   1605.538229     0.000039  0.000000e+00       0.025110  0.003067   \n",
       "330   194.367033     0.000321  4.534354e-03       0.017936  0.020889   \n",
       "466  1424.424412     0.000040  1.339143e-02       0.006640  0.011051   \n",
       "121  1607.517536     0.000655  1.051735e-02       0.022820  0.024166   \n",
       "860  3529.002362     0.001094  3.683761e-03       0.026920  0.020402   \n",
       "\n",
       "       prop_Asian  prop_married  prop_nonfamily  prop_family_nonmarried  \\\n",
       "823  2.160984e-01      0.739701        0.156780                0.103520   \n",
       "479  3.142390e-03      0.576385        0.369381                0.054234   \n",
       "527  6.783282e-03      0.623474        0.219752                0.156774   \n",
       "633  5.080000e-08      0.508307        0.277962                0.213731   \n",
       "388  5.602055e-03      0.487456        0.462643                0.049901   \n",
       "..            ...           ...             ...                     ...   \n",
       "87   7.743880e-03      0.543440        0.359332                0.097229   \n",
       "330  0.000000e+00      0.508504        0.327340                0.164156   \n",
       "466  5.573141e-03      0.535229        0.345808                0.118963   \n",
       "121  6.589097e-03      0.470266        0.384295                0.145440   \n",
       "860  0.000000e+00      0.503747        0.216486                0.279767   \n",
       "\n",
       "     prop_hs_diploma  prop_some_college  prop_bachelors  prop_under_hs  \\\n",
       "823     0.000000e+00           0.082186        0.280514       0.250104   \n",
       "479     0.000000e+00           0.192892        0.326813       0.231994   \n",
       "527     0.000000e+00           0.131523        0.257920       0.484533   \n",
       "633     0.000000e+00           0.053103        0.229047       0.665387   \n",
       "388     0.000000e+00           0.115276        0.109935       0.692549   \n",
       "..               ...                ...             ...            ...   \n",
       "87      0.000000e+00           0.170270        0.150283       0.622837   \n",
       "330     0.000000e+00           0.146390        0.063955       0.753549   \n",
       "466     0.000000e+00           0.176706        0.060665       0.729848   \n",
       "121     0.000000e+00           0.172316        0.126420       0.664557   \n",
       "860     8.700000e-09           0.146648        0.184823       0.618715   \n",
       "\n",
       "     prop_under_30k  prop_30_to_50k  prop_50_to_100k  prop_more_than_100k  \n",
       "823        0.060924        0.099899         0.249053             0.590124  \n",
       "479        0.163563        0.117959         0.357622             0.360856  \n",
       "527        0.159133        0.176735         0.310820             0.353312  \n",
       "633        0.130675        0.339977         0.253599             0.275748  \n",
       "388        0.378326        0.238168         0.294827             0.088680  \n",
       "..              ...             ...              ...                  ...  \n",
       "87         0.287941        0.160311         0.356839             0.194909  \n",
       "330        0.320973        0.238804         0.328780             0.111442  \n",
       "466        0.307023        0.303399         0.301118             0.088460  \n",
       "121        0.259067        0.277313         0.344426             0.119195  \n",
       "860        0.168193        0.283930         0.321399             0.226478  \n",
       "\n",
       "[698 rows x 17 columns]"
      ]
     },
     "execution_count": 38,
     "metadata": {},
     "output_type": "execute_result"
    }
   ],
   "source": [
    "x.to_numpy()\n",
    "y.to_numpy()\n",
    "\n",
    "X_train, X_test, y_train, y_test = train_test_split(x, y, test_size=0.33, random_state=42)\n",
    "\n",
    "match_vtd = X_test['VTD_ID'].to_numpy()\n",
    "X_test.drop('VTD_ID', axis=1)\n",
    "X_train.drop('VTD_ID', axis=1)"
   ]
  },
  {
   "cell_type": "code",
   "execution_count": 39,
   "metadata": {},
   "outputs": [
    {
     "ename": "ValueError",
     "evalue": "Input contains NaN, infinity or a value too large for dtype('float64').",
     "output_type": "error",
     "traceback": [
      "\u001b[1;31m---------------------------------------------------------------------------\u001b[0m",
      "\u001b[1;31mValueError\u001b[0m                                Traceback (most recent call last)",
      "\u001b[1;32m~\\AppData\\Local\\Temp/ipykernel_31208/1034539028.py\u001b[0m in \u001b[0;36m<module>\u001b[1;34m\u001b[0m\n\u001b[0;32m      4\u001b[0m     \u001b[0mreg\u001b[0m \u001b[1;33m=\u001b[0m \u001b[0mlgb\u001b[0m\u001b[1;33m.\u001b[0m\u001b[0mLGBMRegressor\u001b[0m\u001b[1;33m(\u001b[0m\u001b[0mlearning_rate\u001b[0m\u001b[1;33m=\u001b[0m\u001b[0ml\u001b[0m\u001b[1;33m)\u001b[0m\u001b[1;33m\u001b[0m\u001b[1;33m\u001b[0m\u001b[0m\n\u001b[0;32m      5\u001b[0m     \u001b[0mreg\u001b[0m\u001b[1;33m.\u001b[0m\u001b[0mfit\u001b[0m\u001b[1;33m(\u001b[0m\u001b[0mX_train\u001b[0m\u001b[1;33m,\u001b[0m \u001b[0my_train\u001b[0m\u001b[1;33m)\u001b[0m\u001b[1;33m\u001b[0m\u001b[1;33m\u001b[0m\u001b[0m\n\u001b[1;32m----> 6\u001b[1;33m     \u001b[0mr2\u001b[0m \u001b[1;33m=\u001b[0m \u001b[0mreg\u001b[0m\u001b[1;33m.\u001b[0m\u001b[0mscore\u001b[0m\u001b[1;33m(\u001b[0m\u001b[0mX_test\u001b[0m\u001b[1;33m,\u001b[0m \u001b[0my_test\u001b[0m\u001b[1;33m)\u001b[0m\u001b[1;33m\u001b[0m\u001b[1;33m\u001b[0m\u001b[0m\n\u001b[0m\u001b[0;32m      7\u001b[0m     \u001b[0maccuracies\u001b[0m\u001b[1;33m[\u001b[0m\u001b[0ml\u001b[0m\u001b[1;33m]\u001b[0m \u001b[1;33m=\u001b[0m \u001b[0mr2\u001b[0m\u001b[1;33m\u001b[0m\u001b[1;33m\u001b[0m\u001b[0m\n\u001b[0;32m      8\u001b[0m \u001b[0mprint\u001b[0m\u001b[1;33m(\u001b[0m\u001b[1;34m\"Most accurate learning rate is:\"\u001b[0m\u001b[1;33m,\u001b[0m \u001b[0mmax\u001b[0m\u001b[1;33m(\u001b[0m\u001b[0maccuracies\u001b[0m\u001b[1;33m,\u001b[0m \u001b[0mkey\u001b[0m\u001b[1;33m=\u001b[0m\u001b[0maccuracies\u001b[0m\u001b[1;33m.\u001b[0m\u001b[0mget\u001b[0m\u001b[1;33m)\u001b[0m\u001b[1;33m)\u001b[0m\u001b[1;33m\u001b[0m\u001b[1;33m\u001b[0m\u001b[0m\n",
      "\u001b[1;32m~\\AppData\\Local\\Packages\\PythonSoftwareFoundation.Python.3.9_qbz5n2kfra8p0\\LocalCache\\local-packages\\Python39\\site-packages\\sklearn\\base.py\u001b[0m in \u001b[0;36mscore\u001b[1;34m(self, X, y, sample_weight)\u001b[0m\n\u001b[0;32m    704\u001b[0m \u001b[1;33m\u001b[0m\u001b[0m\n\u001b[0;32m    705\u001b[0m         \u001b[0my_pred\u001b[0m \u001b[1;33m=\u001b[0m \u001b[0mself\u001b[0m\u001b[1;33m.\u001b[0m\u001b[0mpredict\u001b[0m\u001b[1;33m(\u001b[0m\u001b[0mX\u001b[0m\u001b[1;33m)\u001b[0m\u001b[1;33m\u001b[0m\u001b[1;33m\u001b[0m\u001b[0m\n\u001b[1;32m--> 706\u001b[1;33m         \u001b[1;32mreturn\u001b[0m \u001b[0mr2_score\u001b[0m\u001b[1;33m(\u001b[0m\u001b[0my\u001b[0m\u001b[1;33m,\u001b[0m \u001b[0my_pred\u001b[0m\u001b[1;33m,\u001b[0m \u001b[0msample_weight\u001b[0m\u001b[1;33m=\u001b[0m\u001b[0msample_weight\u001b[0m\u001b[1;33m)\u001b[0m\u001b[1;33m\u001b[0m\u001b[1;33m\u001b[0m\u001b[0m\n\u001b[0m\u001b[0;32m    707\u001b[0m \u001b[1;33m\u001b[0m\u001b[0m\n\u001b[0;32m    708\u001b[0m     \u001b[1;32mdef\u001b[0m \u001b[0m_more_tags\u001b[0m\u001b[1;33m(\u001b[0m\u001b[0mself\u001b[0m\u001b[1;33m)\u001b[0m\u001b[1;33m:\u001b[0m\u001b[1;33m\u001b[0m\u001b[1;33m\u001b[0m\u001b[0m\n",
      "\u001b[1;32m~\\AppData\\Local\\Packages\\PythonSoftwareFoundation.Python.3.9_qbz5n2kfra8p0\\LocalCache\\local-packages\\Python39\\site-packages\\sklearn\\metrics\\_regression.py\u001b[0m in \u001b[0;36mr2_score\u001b[1;34m(y_true, y_pred, sample_weight, multioutput)\u001b[0m\n\u001b[0;32m    787\u001b[0m     \u001b[1;33m-\u001b[0m\u001b[1;36m3.0\u001b[0m\u001b[1;33m\u001b[0m\u001b[1;33m\u001b[0m\u001b[0m\n\u001b[0;32m    788\u001b[0m     \"\"\"\n\u001b[1;32m--> 789\u001b[1;33m     y_type, y_true, y_pred, multioutput = _check_reg_targets(\n\u001b[0m\u001b[0;32m    790\u001b[0m         \u001b[0my_true\u001b[0m\u001b[1;33m,\u001b[0m \u001b[0my_pred\u001b[0m\u001b[1;33m,\u001b[0m \u001b[0mmultioutput\u001b[0m\u001b[1;33m\u001b[0m\u001b[1;33m\u001b[0m\u001b[0m\n\u001b[0;32m    791\u001b[0m     )\n",
      "\u001b[1;32m~\\AppData\\Local\\Packages\\PythonSoftwareFoundation.Python.3.9_qbz5n2kfra8p0\\LocalCache\\local-packages\\Python39\\site-packages\\sklearn\\metrics\\_regression.py\u001b[0m in \u001b[0;36m_check_reg_targets\u001b[1;34m(y_true, y_pred, multioutput, dtype)\u001b[0m\n\u001b[0;32m     93\u001b[0m     \"\"\"\n\u001b[0;32m     94\u001b[0m     \u001b[0mcheck_consistent_length\u001b[0m\u001b[1;33m(\u001b[0m\u001b[0my_true\u001b[0m\u001b[1;33m,\u001b[0m \u001b[0my_pred\u001b[0m\u001b[1;33m)\u001b[0m\u001b[1;33m\u001b[0m\u001b[1;33m\u001b[0m\u001b[0m\n\u001b[1;32m---> 95\u001b[1;33m     \u001b[0my_true\u001b[0m \u001b[1;33m=\u001b[0m \u001b[0mcheck_array\u001b[0m\u001b[1;33m(\u001b[0m\u001b[0my_true\u001b[0m\u001b[1;33m,\u001b[0m \u001b[0mensure_2d\u001b[0m\u001b[1;33m=\u001b[0m\u001b[1;32mFalse\u001b[0m\u001b[1;33m,\u001b[0m \u001b[0mdtype\u001b[0m\u001b[1;33m=\u001b[0m\u001b[0mdtype\u001b[0m\u001b[1;33m)\u001b[0m\u001b[1;33m\u001b[0m\u001b[1;33m\u001b[0m\u001b[0m\n\u001b[0m\u001b[0;32m     96\u001b[0m     \u001b[0my_pred\u001b[0m \u001b[1;33m=\u001b[0m \u001b[0mcheck_array\u001b[0m\u001b[1;33m(\u001b[0m\u001b[0my_pred\u001b[0m\u001b[1;33m,\u001b[0m \u001b[0mensure_2d\u001b[0m\u001b[1;33m=\u001b[0m\u001b[1;32mFalse\u001b[0m\u001b[1;33m,\u001b[0m \u001b[0mdtype\u001b[0m\u001b[1;33m=\u001b[0m\u001b[0mdtype\u001b[0m\u001b[1;33m)\u001b[0m\u001b[1;33m\u001b[0m\u001b[1;33m\u001b[0m\u001b[0m\n\u001b[0;32m     97\u001b[0m \u001b[1;33m\u001b[0m\u001b[0m\n",
      "\u001b[1;32m~\\AppData\\Local\\Packages\\PythonSoftwareFoundation.Python.3.9_qbz5n2kfra8p0\\LocalCache\\local-packages\\Python39\\site-packages\\sklearn\\utils\\validation.py\u001b[0m in \u001b[0;36mcheck_array\u001b[1;34m(array, accept_sparse, accept_large_sparse, dtype, order, copy, force_all_finite, ensure_2d, allow_nd, ensure_min_samples, ensure_min_features, estimator)\u001b[0m\n\u001b[0;32m    798\u001b[0m \u001b[1;33m\u001b[0m\u001b[0m\n\u001b[0;32m    799\u001b[0m         \u001b[1;32mif\u001b[0m \u001b[0mforce_all_finite\u001b[0m\u001b[1;33m:\u001b[0m\u001b[1;33m\u001b[0m\u001b[1;33m\u001b[0m\u001b[0m\n\u001b[1;32m--> 800\u001b[1;33m             \u001b[0m_assert_all_finite\u001b[0m\u001b[1;33m(\u001b[0m\u001b[0marray\u001b[0m\u001b[1;33m,\u001b[0m \u001b[0mallow_nan\u001b[0m\u001b[1;33m=\u001b[0m\u001b[0mforce_all_finite\u001b[0m \u001b[1;33m==\u001b[0m \u001b[1;34m\"allow-nan\"\u001b[0m\u001b[1;33m)\u001b[0m\u001b[1;33m\u001b[0m\u001b[1;33m\u001b[0m\u001b[0m\n\u001b[0m\u001b[0;32m    801\u001b[0m \u001b[1;33m\u001b[0m\u001b[0m\n\u001b[0;32m    802\u001b[0m     \u001b[1;32mif\u001b[0m \u001b[0mensure_min_samples\u001b[0m \u001b[1;33m>\u001b[0m \u001b[1;36m0\u001b[0m\u001b[1;33m:\u001b[0m\u001b[1;33m\u001b[0m\u001b[1;33m\u001b[0m\u001b[0m\n",
      "\u001b[1;32m~\\AppData\\Local\\Packages\\PythonSoftwareFoundation.Python.3.9_qbz5n2kfra8p0\\LocalCache\\local-packages\\Python39\\site-packages\\sklearn\\utils\\validation.py\u001b[0m in \u001b[0;36m_assert_all_finite\u001b[1;34m(X, allow_nan, msg_dtype)\u001b[0m\n\u001b[0;32m    112\u001b[0m         ):\n\u001b[0;32m    113\u001b[0m             \u001b[0mtype_err\u001b[0m \u001b[1;33m=\u001b[0m \u001b[1;34m\"infinity\"\u001b[0m \u001b[1;32mif\u001b[0m \u001b[0mallow_nan\u001b[0m \u001b[1;32melse\u001b[0m \u001b[1;34m\"NaN, infinity\"\u001b[0m\u001b[1;33m\u001b[0m\u001b[1;33m\u001b[0m\u001b[0m\n\u001b[1;32m--> 114\u001b[1;33m             raise ValueError(\n\u001b[0m\u001b[0;32m    115\u001b[0m                 msg_err.format(\n\u001b[0;32m    116\u001b[0m                     \u001b[0mtype_err\u001b[0m\u001b[1;33m,\u001b[0m \u001b[0mmsg_dtype\u001b[0m \u001b[1;32mif\u001b[0m \u001b[0mmsg_dtype\u001b[0m \u001b[1;32mis\u001b[0m \u001b[1;32mnot\u001b[0m \u001b[1;32mNone\u001b[0m \u001b[1;32melse\u001b[0m \u001b[0mX\u001b[0m\u001b[1;33m.\u001b[0m\u001b[0mdtype\u001b[0m\u001b[1;33m\u001b[0m\u001b[1;33m\u001b[0m\u001b[0m\n",
      "\u001b[1;31mValueError\u001b[0m: Input contains NaN, infinity or a value too large for dtype('float64')."
     ]
    }
   ],
   "source": [
    "lr = [.05, .1,.15,.2,.25,.3,.35]\n",
    "accuracies = {}\n",
    "for l in lr:\n",
    "    reg = lgb.LGBMRegressor(learning_rate=l)\n",
    "    reg.fit(X_train, y_train)\n",
    "    r2 = reg.score(X_test, y_test)\n",
    "    accuracies[l] = r2\n",
    "print(\"Most accurate learning rate is:\", max(accuracies, key=accuracies.get))\n"
   ]
  },
  {
   "cell_type": "code",
   "execution_count": null,
   "metadata": {},
   "outputs": [
    {
     "name": "stdout",
     "output_type": "stream",
     "text": [
      "R-squared for percent of democratic votes is: 0.7466516041406176\n"
     ]
    },
    {
     "data": {
      "image/png": "[encoded data removed]",
      "text/plain": [
       "<Figure size 432x288 with 1 Axes>"
      ]
     },
     "metadata": {
      "needs_background": "light"
     },
     "output_type": "display_data"
    }
   ],
   "source": [
    "reg = lgb.LGBMRegressor(learning_rate=0.1)\n",
    "reg.fit(X_train, y_train)\n",
    "ydp_pred = reg.predict(X_test).transpose()\n",
    "print(\"R-squared for percent of democratic votes is:\", reg.score(X_test, y_test))\n",
    "lgb.plot_importance(reg)\n",
    "\n",
    "matched_ydp = np.column_stack((match_vtd, ydp_pred))\n",
    "\n"
   ]
  },
  {
   "cell_type": "code",
   "execution_count": null,
   "metadata": {},
   "outputs": [],
   "source": [
    "y = df['Weighted_ideology']\n",
    "x.to_numpy()\n",
    "y.to_numpy()\n",
    "\n",
    "X_train, X_test, y_train, y_test = train_test_split(x, y, test_size=0.33, random_state=42)"
   ]
  },
  {
   "cell_type": "code",
   "execution_count": null,
   "metadata": {},
   "outputs": [
    {
     "name": "stdout",
     "output_type": "stream",
     "text": [
      "Most accurate learning rate is: 0.05\n"
     ]
    }
   ],
   "source": [
    "lr = [.05, .1,.15,.2,.25,.3,.35]\n",
    "accuracies = {}\n",
    "for l in lr:\n",
    "    reg = lgb.LGBMRegressor(learning_rate=l)\n",
    "    reg.fit(X_train, y_train)\n",
    "    r2 = reg.score(X_test, y_test)\n",
    "    accuracies[l] = r2\n",
    "print(\"Most accurate learning rate is:\", max(accuracies, key=accuracies.get))"
   ]
  },
  {
   "cell_type": "code",
   "execution_count": null,
   "metadata": {},
   "outputs": [
    {
     "name": "stdout",
     "output_type": "stream",
     "text": [
      "R-squared for weighted ideology is: 0.49922160420495654\n"
     ]
    },
    {
     "data": {
      "image/png": "[encoded data removed]",
      "text/plain": [
       "<Figure size 432x288 with 1 Axes>"
      ]
     },
     "metadata": {
      "needs_background": "light"
     },
     "output_type": "display_data"
    }
   ],
   "source": [
    "reg = lgb.LGBMRegressor(learning_rate=0.05)\n",
    "reg.fit(X_train, y_train)\n",
    "yw_pred = reg.predict(X_test)\n",
    "print(\"R-squared for weighted ideology is:\",reg.score(X_test, y_test))\n",
    "lgb.plot_importance(reg)\n",
    "\n",
    "matched_yw = np.column_stack((match_vtd, yw_pred))"
   ]
  },
  {
   "cell_type": "code",
   "execution_count": null,
   "metadata": {},
   "outputs": [
    {
     "name": "stdout",
     "output_type": "stream",
     "text": [
      "               0         1\n",
      "0   2.612513e+10  0.532980\n",
      "1   2.612513e+10  0.622867\n",
      "2   2.612513e+10  0.529777\n",
      "3   2.612513e+10  0.450677\n",
      "4   2.612513e+10  0.527750\n",
      "..           ...       ...\n",
      "78  2.612513e+10  0.610634\n",
      "79  2.612500e+10  0.466898\n",
      "80  2.612513e+10  0.526242\n",
      "81  2.612513e+10  0.368944\n",
      "82  2.616316e+10  0.578177\n",
      "\n",
      "[83 rows x 2 columns]\n"
     ]
    }
   ],
   "source": [
    "df_ydp = pd.DataFrame(matched_ydp)\n",
    "df_yw = pd.DataFrame(matched_yw)\n",
    "\n",
    "print(df_ydp)\n"
   ]
  }
 ],
 "metadata": {
  "kernelspec": {
   "display_name": "Python 3.9.13 64-bit (windows store)",
   "language": "python",
   "name": "python3"
  },
  "language_info": {
   "codemirror_mode": {
    "name": "ipython",
    "version": 3
   },
   "file_extension": ".py",
   "mimetype": "text/x-python",
   "name": "python",
   "nbconvert_exporter": "python",
   "pygments_lexer": "ipython3",
   "version": "3.9.13"
  },
  "orig_nbformat": 4,
  "vscode": {
   "interpreter": {
    "hash": "80a7733419157b7bbc69da993750370e7e973cd1e1e420d8d8947b3681a958ae"
   }
  }
 },
 "nbformat": 4,
 "nbformat_minor": 2
}
