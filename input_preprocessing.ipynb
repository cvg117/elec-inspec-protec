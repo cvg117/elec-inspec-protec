{
 "cells": [
  {
   "cell_type": "code",
   "execution_count": 1,
   "metadata": {},
   "outputs": [],
   "source": [
    "import geopandas"
   ]
  }
 ],
 "metadata": {
  "interpreter": {
   "hash": "a1d96363733b443f3004e8cad10d3a8dac01f3924e3c2b76362b8b57129e4441"
  },
  "kernelspec": {
   "display_name": "Python 3.10.4 ('geomapping')",
   "language": "python",
   "name": "python3"
  },
  "language_info": {
   "codemirror_mode": {
    "name": "ipython",
    "version": 3
   },
   "file_extension": ".py",
   "mimetype": "text/x-python",
   "name": "python",
   "nbconvert_exporter": "python",
   "pygments_lexer": "ipython3",
   "version": "3.10.4"
  },
  "orig_nbformat": 4
 },
 "nbformat": 4,
 "nbformat_minor": 2
}
