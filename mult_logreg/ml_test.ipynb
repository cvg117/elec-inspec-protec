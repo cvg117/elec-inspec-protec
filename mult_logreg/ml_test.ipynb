{
 "cells": [
  {
   "cell_type": "code",
   "execution_count": 6,
   "id": "40a01295",
   "metadata": {},
   "outputs": [
    {
     "name": "stdout",
     "output_type": "stream",
     "text": [
      "0.6666666666666666\n",
      "0.7272727272727273\n"
     ]
    }
   ],
   "source": [
    "import csv\n",
    "import pandas as pd\n",
    "import numpy as np\n",
    "from sklearn.model_selection import train_test_split\n",
    "from sklearn.linear_model import LogisticRegression\n",
    "\n",
    "\n",
    "\n",
    "county_arr = pd.read_csv('../data/mi_matched_county.csv').to_numpy()\n",
    "training, testing = train_test_split(county_arr)\n",
    "training_x, training_y = training[:,:-1], training[:,-1]\n",
    "testing_x, testing_y = testing[:,:-1], testing[:,-1] \n",
    "\n",
    "\n",
    "logreg = LogisticRegression(multi_class='multinomial', solver='lbfgs')\n",
    "logreg.fit(training_x, training_y)\n",
    "\n",
    "train_acc = np.count_nonzero(logreg.predict(training_x) == training_y) / len(training_y)\n",
    "print(train_acc)\n",
    "\n",
    "test_y_hat = logreg.predict(testing_x)\n",
    "test_acc =  np.count_nonzero(logreg.predict(testing_x) == testing_y) / len(testing_y)\n",
    "print(test_acc)"
   ]
  }
 ],
 "metadata": {
  "kernelspec": {
   "display_name": "Python 3 (ipykernel)",
   "language": "python",
   "name": "python3"
  },
  "language_info": {
   "codemirror_mode": {
    "name": "ipython",
    "version": 3
   },
   "file_extension": ".py",
   "mimetype": "text/x-python",
   "name": "python",
   "nbconvert_exporter": "python",
   "pygments_lexer": "ipython3",
   "version": "3.9.7"
  }
 },
 "nbformat": 4,
 "nbformat_minor": 5
}
